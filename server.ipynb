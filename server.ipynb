{
 "cells": [
  {
   "cell_type": "code",
   "execution_count": null,
   "id": "c1dba279",
   "metadata": {},
   "outputs": [],
   "source": [
    "import socket\n",
    "import numpy\n",
    "import cv2 \n",
    "import threading"
   ]
  },
  {
   "cell_type": "code",
   "execution_count": null,
   "id": "c4fa9445",
   "metadata": {},
   "outputs": [],
   "source": [
    "sk = socket.socket()\n",
    "sk.bind((\"\", 1234))\n",
    "sk.listen()\n",
    "session, address = sk.accept() #accepting request from any server\n",
    "print(session.recv(2046)) \n",
    "cameraIndex = 'https://192.168.29.233:8080/video' # using camera from IPWebcam App\n",
    "camera = cv2.VideoCapture(cameraIndex)\n",
    "\n",
    "def sender():\n",
    "    while True:\n",
    "        status, photo = camera.read()\n",
    "        photo = cv2.resize(photo, (640, 480))\n",
    "        print(photo.shape)\n",
    "        if status:\n",
    "            session.send(numpy.ndarray.tobytes(photo))\n",
    "        else: print(\"Could not get frame\")\n",
    "\n",
    "def receiver():\n",
    "    framesLost = 0\n",
    "    print(\"Entered\")\n",
    "    while True:\n",
    "        framesLost += 1\n",
    "        data = session.recv(100000000)\n",
    "        if(data == b'finished'):\n",
    "            print(\"Finished\")\n",
    "            camera.release()\n",
    "            session.close()\n",
    "        else:\n",
    "            photo =  numpy.frombuffer(data, dtype=numpy.uint8)\n",
    "            if len(photo) == 640*480*3:\n",
    "                cv2.imshow('From Client', photo.reshape(480, 640, 3))\n",
    "                if cv2.waitKey(1) == 13:\n",
    "                    session.send(b'finished')\n",
    "                    camera.release()\n",
    "                    cv2.destroyAllWindows()\n",
    "                    break\n",
    "            else:\n",
    "                print(\"Lost {} frames\".format(framesLost) )\n",
    "                \n",
    "threading.Thread(target=sender).start()\n",
    "threading.Thread(target=receiver).start()"
   ]
  },
  {
   "cell_type": "code",
   "execution_count": null,
   "id": "3a61b8f4",
   "metadata": {},
   "outputs": [],
   "source": []
  }
 ],
 "metadata": {
  "kernelspec": {
   "display_name": "Python 3",
   "language": "python",
   "name": "python3"
  },
  "language_info": {
   "codemirror_mode": {
    "name": "ipython",
    "version": 3
   },
   "file_extension": ".py",
   "mimetype": "text/x-python",
   "name": "python",
   "nbconvert_exporter": "python",
   "pygments_lexer": "ipython3",
   "version": "3.8.8"
  }
 },
 "nbformat": 4,
 "nbformat_minor": 5
}
