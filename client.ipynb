{
 "cells": [
  {
   "cell_type": "code",
   "execution_count": null,
   "id": "55da0287",
   "metadata": {},
   "outputs": [],
   "source": [
    "import socket\n",
    "import numpy\n",
    "import cv2 \n",
    "import threading"
   ]
  },
  {
   "cell_type": "code",
   "execution_count": null,
   "id": "711a8755",
   "metadata": {},
   "outputs": [],
   "source": [
    "sk = socket.socket()\n",
    "sk.bind((\"\", 4321))  # empty means local system\n",
    "server_ip = input(\"enter ip of server: \")\n",
    "server_port = input(\"enter port number of server: \")\n",
    "\n",
    "sk.connect((server_ip, int(server_port))) \n",
    "sk.send(b\"connected\")  # sending string as data\n",
    "cameraIndex = 0 # laptop webcam\n",
    "camera = cv2.VideoCapture(cameraIndex) # starting the camera\n",
    "\n",
    "# function for cleint to work as receiver\n",
    "def receiver():\n",
    "    framesLost = 0\n",
    "    print(\"Entered\")\n",
    "    while True:\n",
    "        framesLost += 1 # counting frame\n",
    "        data = sk.recv(100000000) \n",
    "        if(data == b'finished'): # to stop receiving and stop camera\n",
    "            print(\"Finished\")\n",
    "            camera.release()\n",
    "            sk.close()\n",
    "        else:  # converting the byte data into numpy array\n",
    "            photo =  numpy.frombuffer(data, dtype=numpy.uint8)\n",
    "            if len(photo) == 640*480*3: # changing the array shape and getting the video\n",
    "                cv2.imshow('From Server', photo.reshape(480, 640, 3))\n",
    "                if cv2.waitKey(1) == 13: # camera closing condition\n",
    "                    sk.send(b'finished')\n",
    "                    camera.release()\n",
    "                    cv2.destroyAllWindows()\n",
    "                    break\n",
    "            else:\n",
    "                print(\"Lost {} frames\".format(framesLost) ) #counting the lost frames during video exchange\n",
    "\n",
    "# function for client to send the data of the video             \n",
    "def sender():\n",
    "    while True: # reading the camera data resizing and sending it as byte \n",
    "        status, photo = camera.read()\n",
    "        photo = cv2.resize(photo, (640, 480))\n",
    "        #photo = cv.resize(photo, (600, 500))\n",
    "        print(photo.shape)\n",
    "        if status:\n",
    "            sk.send(numpy.ndarray.tobytes(photo))\n",
    "        else: print(\"Could not get frame\")\n",
    "    camera.release()\n",
    "\n",
    "# threads to run both the functions\n",
    "threading.Thread(target=receiver).start()\n",
    "threading.Thread(target=sender).start()"
   ]
  },
  {
   "cell_type": "code",
   "execution_count": null,
   "id": "5916d700",
   "metadata": {},
   "outputs": [],
   "source": []
  },
  {
   "cell_type": "code",
   "execution_count": null,
   "id": "ea65e1a9",
   "metadata": {},
   "outputs": [],
   "source": []
  }
 ],
 "metadata": {
  "kernelspec": {
   "display_name": "Python 3",
   "language": "python",
   "name": "python3"
  },
  "language_info": {
   "codemirror_mode": {
    "name": "ipython",
    "version": 3
   },
   "file_extension": ".py",
   "mimetype": "text/x-python",
   "name": "python",
   "nbconvert_exporter": "python",
   "pygments_lexer": "ipython3",
   "version": "3.8.8"
  }
 },
 "nbformat": 4,
 "nbformat_minor": 5
}
